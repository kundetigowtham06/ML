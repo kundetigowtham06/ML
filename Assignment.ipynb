{
  "nbformat": 4,
  "nbformat_minor": 0,
  "metadata": {
    "colab": {
      "provenance": [],
      "authorship_tag": "ABX9TyM2HlMlqzBInysYTx2uEelv",
      "include_colab_link": true
    },
    "kernelspec": {
      "name": "python3",
      "display_name": "Python 3"
    },
    "language_info": {
      "name": "python"
    }
  },
  "cells": [
    {
      "cell_type": "markdown",
      "metadata": {
        "id": "view-in-github",
        "colab_type": "text"
      },
      "source": [
        "<a href=\"https://colab.research.google.com/github/kundetigowtham06/ML/blob/main/Assignment.ipynb\" target=\"_parent\"><img src=\"https://colab.research.google.com/assets/colab-badge.svg\" alt=\"Open In Colab\"/></a>"
      ]
    },
    {
      "cell_type": "markdown",
      "source": [
        "#Assignment 1"
      ],
      "metadata": {
        "id": "AfO_lJ-msAjb"
      }
    },
    {
      "cell_type": "code",
      "execution_count": 2,
      "metadata": {
        "id": "IIY4OVpCr-ym"
      },
      "outputs": [],
      "source": [
        "import numpy as np"
      ]
    },
    {
      "cell_type": "markdown",
      "source": [
        "##1. Perform arithmetic operations on NumPy arrays.\n"
      ],
      "metadata": {
        "id": "TKS-ARsysI3d"
      }
    },
    {
      "cell_type": "code",
      "source": [
        "a=np.array([1,2,3])\n",
        "b=np.array([4,5,6])\n",
        "#Addition\n",
        "print(np.add(a,b))\n",
        "#Subtraction\n",
        "print(np.subtract(b,a))\n",
        "#multiplication\n",
        "print(np.multiply(a,b))\n",
        "#Divison\n",
        "print(np.divide(a,b))"
      ],
      "metadata": {
        "colab": {
          "base_uri": "https://localhost:8080/"
        },
        "id": "tpPtQUVzsSSn",
        "outputId": "03ff7d88-501f-4b98-8edb-f7b5cb642d26"
      },
      "execution_count": null,
      "outputs": [
        {
          "output_type": "stream",
          "name": "stdout",
          "text": [
            "[5 7 9]\n",
            "[3 3 3]\n",
            "[ 4 10 18]\n",
            "[0.25 0.4  0.5 ]\n"
          ]
        }
      ]
    },
    {
      "cell_type": "markdown",
      "source": [
        "##2. Write a script to compute the mean and standard deviation of a NumPy array.\n"
      ],
      "metadata": {
        "id": "ue8haE8muC-Y"
      }
    },
    {
      "cell_type": "code",
      "source": [
        "mean=np.mean(a)\n",
        "standard=np.std(a)\n",
        "print(\"Mean\",mean)\n",
        "print(\"Standard Deviation\",standard)"
      ],
      "metadata": {
        "colab": {
          "base_uri": "https://localhost:8080/"
        },
        "id": "BPTPh8K-uL4I",
        "outputId": "4a7379f0-8ba6-484d-d035-d8482fc6993d"
      },
      "execution_count": null,
      "outputs": [
        {
          "output_type": "stream",
          "name": "stdout",
          "text": [
            "Mean 2.0\n",
            "Standard Deviation 0.816496580927726\n"
          ]
        }
      ]
    },
    {
      "cell_type": "markdown",
      "source": [
        "##3. Create a NumPy array of integers from 10 to 50 with a step size of 5.\n"
      ],
      "metadata": {
        "id": "zh4EPdSxu31o"
      }
    },
    {
      "cell_type": "code",
      "source": [
        "c=np.arange(10,51,5)\n",
        "print(c)"
      ],
      "metadata": {
        "colab": {
          "base_uri": "https://localhost:8080/"
        },
        "id": "S5QKxb_Cu8sA",
        "outputId": "ae1b03b4-4fe7-46d9-df11-2fe4f59fbb2a"
      },
      "execution_count": null,
      "outputs": [
        {
          "output_type": "stream",
          "name": "stdout",
          "text": [
            "[10 15 20 25 30 35 40 45 50]\n"
          ]
        }
      ]
    },
    {
      "cell_type": "markdown",
      "source": [
        "##4. Reshape the array into a 2x4 matrix.\n"
      ],
      "metadata": {
        "id": "leJnw_qSwDS5"
      }
    },
    {
      "cell_type": "code",
      "source": [
        "g=np.array([1,2,3,4,5,6,7,8])\n",
        "g=g.reshape(2,4)\n",
        "print(g)"
      ],
      "metadata": {
        "colab": {
          "base_uri": "https://localhost:8080/"
        },
        "id": "9FpcLizKvgAC",
        "outputId": "a91f644a-8317-45f0-9f9c-b30a34eeebef"
      },
      "execution_count": null,
      "outputs": [
        {
          "output_type": "stream",
          "name": "stdout",
          "text": [
            "[[1 2 3 4]\n",
            " [5 6 7 8]]\n"
          ]
        }
      ]
    },
    {
      "cell_type": "markdown",
      "source": [
        "##5. Given the array arr = np.array([[1, 2, 3], [4, 5, 6], [7, 8, 9]]):\n",
        "\n",
        "\n",
        "*    Extract the sub-matrix containing the last two rows and first two columns.\n",
        "\n",
        "*    Replace all elements greater than 4 with 0.\n",
        "\n",
        "\n",
        "\n",
        "\n",
        "\n",
        "\n"
      ],
      "metadata": {
        "id": "0o5dSFAfwmoV"
      }
    },
    {
      "cell_type": "code",
      "source": [
        "#Extract the sub-matrix containing the last two rows and first two columns\n",
        "arr=np.array([[1, 2, 3], [4, 5, 6], [7, 8, 9]])\n",
        "print(\"last two rows and first two colums\")\n",
        "print(arr[1:,0:2])\n",
        "#Replace all elements greater than 4 with 0\n",
        "print('------------------')\n",
        "arr[arr>4]=0\n",
        "print(arr)\n"
      ],
      "metadata": {
        "colab": {
          "base_uri": "https://localhost:8080/"
        },
        "id": "0TgSGyMFw9Gn",
        "outputId": "11719c2f-f6c1-4830-d2e6-f1e85102536e"
      },
      "execution_count": null,
      "outputs": [
        {
          "output_type": "stream",
          "name": "stdout",
          "text": [
            "last two rows and first two colums\n",
            "[[4 5]\n",
            " [7 8]]\n",
            "------------------\n",
            "[[1 2 3]\n",
            " [4 0 0]\n",
            " [0 0 0]]\n"
          ]
        }
      ]
    },
    {
      "cell_type": "markdown",
      "source": [
        "##6. Create two 1D arrays:\n",
        "\n",
        "\n",
        "*   a = np.array([1, 2, 3])\n",
        "*   b = np.array([4, 5, 6])\n",
        "*   Perform element-wise addition, multiplication, and division.\n",
        "\n",
        "\n"
      ],
      "metadata": {
        "id": "C6TGtOCB1mFR"
      }
    },
    {
      "cell_type": "code",
      "source": [
        "a=np.array([1,2,3])\n",
        "b=np.array([4,5,6])\n",
        "print(a+b)\n",
        "print(a*b)\n",
        "print(a/b)\n"
      ],
      "metadata": {
        "colab": {
          "base_uri": "https://localhost:8080/"
        },
        "id": "qCTJP80w2O90",
        "outputId": "2368b51a-9b59-4044-e141-8ce7f64f1a24"
      },
      "execution_count": null,
      "outputs": [
        {
          "output_type": "stream",
          "name": "stdout",
          "text": [
            "[5 7 9]\n",
            "[ 4 10 18]\n",
            "[0.25 0.4  0.5 ]\n"
          ]
        }
      ]
    },
    {
      "cell_type": "markdown",
      "source": [
        "## 7.Create a random NumPy array of size (4, 4). Compute\n",
        "\n",
        "*   Mean of each column.\n",
        "*   Maximum value of the entire array.\n",
        "*   Sum of all elements.\n",
        "\n",
        "\n",
        "\n"
      ],
      "metadata": {
        "id": "Erm9gpLA4Gj8"
      }
    },
    {
      "cell_type": "code",
      "source": [
        "ar=np.random.randint(1,21,size=(4,4))\n",
        "print(np.mean(ar,axis=0))\n",
        "print(np.max(ar))\n",
        "print(np.sum(ar))"
      ],
      "metadata": {
        "colab": {
          "base_uri": "https://localhost:8080/"
        },
        "id": "ce0V4j-u57Gg",
        "outputId": "741808d4-581c-4fb1-f4ac-9c32ef80878b"
      },
      "execution_count": null,
      "outputs": [
        {
          "output_type": "stream",
          "name": "stdout",
          "text": [
            "[13.5   9.25  9.5   5.75]\n",
            "19\n",
            "152\n"
          ]
        }
      ]
    },
    {
      "cell_type": "markdown",
      "source": [
        "## 8.Given the array arr = np.array([1, 2, 3, 4]), add 10 to each element and multiply the result by 2."
      ],
      "metadata": {
        "id": "WUWtkDY-74lf"
      }
    },
    {
      "cell_type": "code",
      "source": [
        "arr=np.array([1,2,3,4])\n",
        "arr+=10\n",
        "print(arr*2)"
      ],
      "metadata": {
        "colab": {
          "base_uri": "https://localhost:8080/"
        },
        "id": "y8DPVbhq8JvW",
        "outputId": "1231f668-f34a-4092-fafa-6afb221bff2c"
      },
      "execution_count": null,
      "outputs": [
        {
          "output_type": "stream",
          "name": "stdout",
          "text": [
            "[22 24 26 28]\n"
          ]
        }
      ]
    },
    {
      "cell_type": "markdown",
      "source": [
        "## 9. Perform advanced slicing and indexing on a 3D array. Create a 3D NumPy array arr of shape (3, 4, 5) with random integers ranging from 1 to 100\n",
        "\n",
        "*   Extract the second \"layer\" (i.e., the second 2D array) in the first dimension.\n",
        "*   Extract the first two rows and the last three columns from each \"layer.\"\n",
        "* Replace all elements divisible by 3 with -1.\n"
      ],
      "metadata": {
        "id": "vh7B-qCu8hA_"
      }
    },
    {
      "source": [
        "arr = np.random.randint(1, 101, size=(3, 4, 5))\n",
        "print(arr)\n",
        "print('------------------')\n",
        "print(arr[1])\n",
        "print('------------------')\n",
        "print(arr[:,0:2,-3:])\n",
        "print('------------------')\n",
        "arr[arr%3==0]=-1\n",
        "print(arr)"
      ],
      "cell_type": "code",
      "metadata": {
        "colab": {
          "base_uri": "https://localhost:8080/"
        },
        "id": "RUrxg6DM9Wsi",
        "outputId": "f5bea12b-63de-40d4-8feb-6ba7e7e82dfc"
      },
      "execution_count": null,
      "outputs": [
        {
          "output_type": "stream",
          "name": "stdout",
          "text": [
            "[[[50 46 69 58 96]\n",
            "  [72 57 62 66 66]\n",
            "  [16 55 52 32 82]\n",
            "  [62 81 54 58 62]]\n",
            "\n",
            " [[51 76 18 89  7]\n",
            "  [66 98 81 59 91]\n",
            "  [39 73 97 90 27]\n",
            "  [46 12 30 16 84]]\n",
            "\n",
            " [[47 30 93 79 62]\n",
            "  [40 49 18 26 81]\n",
            "  [14 39 79 76 96]\n",
            "  [25 21 53  2 97]]]\n",
            "------------------\n",
            "[[51 76 18 89  7]\n",
            " [66 98 81 59 91]\n",
            " [39 73 97 90 27]\n",
            " [46 12 30 16 84]]\n",
            "------------------\n",
            "[[[69 58 96]\n",
            "  [62 66 66]]\n",
            "\n",
            " [[18 89  7]\n",
            "  [81 59 91]]\n",
            "\n",
            " [[93 79 62]\n",
            "  [18 26 81]]]\n",
            "------------------\n",
            "[[[50 46 -1 58 -1]\n",
            "  [-1 -1 62 -1 -1]\n",
            "  [16 55 52 32 82]\n",
            "  [62 -1 -1 58 62]]\n",
            "\n",
            " [[-1 76 -1 89  7]\n",
            "  [-1 98 -1 59 91]\n",
            "  [-1 73 97 -1 -1]\n",
            "  [46 -1 -1 16 -1]]\n",
            "\n",
            " [[47 -1 -1 79 62]\n",
            "  [40 49 -1 26 -1]\n",
            "  [14 -1 79 76 -1]\n",
            "  [25 -1 53  2 97]]]\n"
          ]
        }
      ]
    },
    {
      "cell_type": "markdown",
      "source": [
        "##  10.Work with broadcasting and advanced operations in NumPy. Create a NumPy array arr of shape (3, 3) with random integers between  1 and 20.\n",
        "\n",
        "*    Subtract the mean of each row from its respective elements (row-wise\n",
        "normalization).\n",
        "*   Create a new array by squaring all the elements in arr.\n",
        "*   Find the indices of the top 3 maximum values in the entire array.\n",
        "\n"
      ],
      "metadata": {
        "id": "BdQ8wQVi_LWo"
      }
    },
    {
      "cell_type": "code",
      "source": [
        "a=np.random.randint(1,21,size=(3,3))\n",
        "print(a)\n",
        "print('------------------')\n",
        "a=a-np.mean(a,axis=1)\n",
        "print(a)\n",
        "print('------------------')\n",
        "b=np.square(a)\n",
        "print(b)\n",
        "print('------------------')\n",
        "flat = a.flatten()\n",
        "indices = np.argpartition(flat, -3)[-3:]\n",
        "row, col = np.unravel_index(indices, a.shape)\n",
        "print(\"Indices of top 3 maximum values:\")\n",
        "for i in range(3):\n",
        "    print(f\"Value: {a[row[i]][col[i]]}, Index: ({row[i]}, {col[i]})\")"
      ],
      "metadata": {
        "colab": {
          "base_uri": "https://localhost:8080/"
        },
        "id": "tIIfCSu5POuS",
        "outputId": "23afbf34-a120-4431-a9cf-3171d34f5d35"
      },
      "execution_count": 4,
      "outputs": [
        {
          "output_type": "stream",
          "name": "stdout",
          "text": [
            "[[ 2  8 19]\n",
            " [17  7 10]\n",
            " [10  9 14]]\n",
            "------------------\n",
            "[[-7.66666667 -3.33333333  8.        ]\n",
            " [ 7.33333333 -4.33333333 -1.        ]\n",
            " [ 0.33333333 -2.33333333  3.        ]]\n",
            "------------------\n",
            "[[58.77777778 11.11111111 64.        ]\n",
            " [53.77777778 18.77777778  1.        ]\n",
            " [ 0.11111111  5.44444444  9.        ]]\n",
            "------------------\n",
            "Indices of top 3 maximum values:\n",
            "Value: 3.0, Index: (2, 2)\n",
            "Value: 7.333333333333334, Index: (1, 0)\n",
            "Value: 8.0, Index: (0, 2)\n"
          ]
        }
      ]
    },
    {
      "cell_type": "code",
      "source": [],
      "metadata": {
        "id": "73aag8xlUxtz"
      },
      "execution_count": null,
      "outputs": []
    }
  ]
}